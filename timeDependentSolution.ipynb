{
 "cells": [
  {
   "cell_type": "code",
   "execution_count": null,
   "metadata": {},
   "outputs": [],
   "source": [
    "import sys\n",
    "import numpy as np\n",
    "import matplotlib.pyplot as plt\n",
    "from matplotlib import animation\n",
    "import tqdm\n",
    "\n",
    "from scipy import sparse\n",
    "import torch\n",
    "\n",
    "import schrodingerUtils\n",
    "\n",
    "device = torch.device(\"cuda\" if torch.cuda.is_available() else \"cpu\")\n",
    "print(f\"Device: {device}\")"
   ]
  },
  {
   "cell_type": "code",
   "execution_count": null,
   "metadata": {},
   "outputs": [],
   "source": [
    "NUM_DIMENSIONS = 1\n",
    "POINTS_PER_DIMENSION = 10000\n",
    "\n",
    "DIMENSION_LIMIT = 1\n",
    "discreteSpatialMeshgrid = schrodingerUtils.physics.createNDimensionalMeshGrid(NUM_DIMENSIONS, POINTS_PER_DIMENSION, [-DIMENSION_LIMIT,DIMENSION_LIMIT])"
   ]
  },
  {
   "cell_type": "code",
   "execution_count": null,
   "metadata": {},
   "outputs": [],
   "source": [
    "def createGaussian(mu, sigma):\n",
    "    return lambda x: np.exp(-(x-mu)**2 / (2*sigma**2))\n",
    "\n",
    "g1 = createGaussian(0.0, 0.1)\n",
    "g2 = createGaussian(0.5, 0.1)\n",
    "def potential(x):\n",
    "    return - 1 * (1*g1(x) + 0*g2(x))\n",
    "\n",
    "V = potential(*discreteSpatialMeshgrid)\n",
    "\n",
    "fig = plt.figure(figsize=(8,6))\n",
    "ax = fig.add_subplot(111)\n",
    "ax.plot(*discreteSpatialMeshgrid, V)\n",
    "# plt.savefig(\"images/twoNarrowAttractors.png\")\n",
    "plt.show()"
   ]
  },
  {
   "cell_type": "markdown",
   "metadata": {},
   "source": [
    "# Solve Time Independent Schrodinger Equation"
   ]
  },
  {
   "cell_type": "code",
   "execution_count": null,
   "metadata": {},
   "outputs": [],
   "source": [
    "T = schrodingerUtils.physics.getKineticSchrodingerTerm(NUM_DIMENSIONS, POINTS_PER_DIMENSION)\n",
    "U = sparse.diags(V.reshape(POINTS_PER_DIMENSION**NUM_DIMENSIONS), (0))\n",
    "\n",
    "H = T+U\n",
    "\n",
    "timeIndependentSolver = schrodingerUtils.physics.TorchTimeIndependentSchrodingerSolver(H, NUM_DIMENSIONS, POINTS_PER_DIMENSION)"
   ]
  },
  {
   "cell_type": "code",
   "execution_count": null,
   "metadata": {},
   "outputs": [],
   "source": [
    "numEigenstates = 50\n",
    "timeIndependentSolver.solveEigenstates(numEigenstates=numEigenstates)"
   ]
  },
  {
   "cell_type": "code",
   "execution_count": null,
   "metadata": {},
   "outputs": [],
   "source": [
    "axisDim = 3\n",
    "\n",
    "# numRows = 4\n",
    "# numCols = numEigenstates//numRows\n",
    "# numCols = 4\n",
    "# numRows = numEigenstates//numCols\n",
    "numCols = 4\n",
    "numRows = 4\n",
    "\n",
    "\n",
    "fig, axes = plt.subplots(ncols=numCols, nrows=numRows, sharex=True, sharey=True, figsize=(numCols*axisDim,numRows*axisDim))\n",
    "\n",
    "axes = np.ravel(axes)\n",
    "for i in range(len(axes)):\n",
    "    targetAxis = axes[i]\n",
    "    if i > numEigenstates:\n",
    "        targetAxis.axis(\"off\")\n",
    "        continue\n",
    "\n",
    "    targetAxis.set_title(f\"Eigenstate Index: {i}\")\n",
    "    # targetAxis.set_aspect(\"equal\")\n",
    "    eigenvalue, eigenvector = timeIndependentSolver.getEigenstate(i)\n",
    "    targetAxis.set_xlim([-0.1,0.1])\n",
    "    targetAxis.plot(*discreteSpatialMeshgrid, eigenvector**2)\n",
    "plt.tight_layout()\n",
    "plt.show()"
   ]
  },
  {
   "cell_type": "markdown",
   "metadata": {},
   "source": [
    "# Solve Time Dependent Schrodinger Equation"
   ]
  },
  {
   "cell_type": "code",
   "execution_count": null,
   "metadata": {},
   "outputs": [],
   "source": [
    "TEMPORAL_SPACING = 1e-7\n",
    "solver = schrodingerUtils.physics.TimeDependentSchrodingerSolver(V, discreteSpatialMeshgrid, TEMPORAL_SPACING)\n",
    "solver.getDelTimeOverDelXSquare()"
   ]
  },
  {
   "cell_type": "code",
   "execution_count": null,
   "metadata": {},
   "outputs": [],
   "source": [
    "g = createGaussian(0.3, 0.1)\n",
    "initialPsi = g(discreteSpatialMeshgrid[0])\n",
    "initialPsi = solver.normalizePsi(initialPsi)\n",
    "plt.plot(*discreteSpatialMeshgrid, initialPsi)\n",
    "plt.show()"
   ]
  },
  {
   "cell_type": "code",
   "execution_count": null,
   "metadata": {},
   "outputs": [],
   "source": [
    "numTimesteps = 200000\n",
    "psi = solver.solve(initialPsi, numTimesteps)"
   ]
  },
  {
   "cell_type": "code",
   "execution_count": null,
   "metadata": {},
   "outputs": [],
   "source": [
    "plt.plot(*discreteSpatialMeshgrid, np.absolute(psi[-1])**2)\n",
    "plt.show()"
   ]
  },
  {
   "cell_type": "code",
   "execution_count": null,
   "metadata": {},
   "outputs": [],
   "source": [
    "stepsPerFrame = 200\n",
    "numFrames = int(len(psi) / stepsPerFrame)\n",
    "display(f\"Total GIF time: {(numFrames/30):0.0f}s\")"
   ]
  },
  {
   "cell_type": "code",
   "execution_count": null,
   "metadata": {},
   "outputs": [],
   "source": [
    "framesProgressBar=tqdm.tqdm(total=numFrames, position=0, leave=True)\n",
    "\n",
    "fig = plt.figure(figsize=(8,6))\n",
    "ax = fig.add_subplot(111)\n",
    "ax.set_xlim((np.min(discreteSpatialMeshgrid[0]), np.max(discreteSpatialMeshgrid[0])))\n",
    "ax.set_ylim(-1, 1.5*np.max(np.absolute(psi)**2))\n",
    "\n",
    "l, = ax.plot([], [])\n",
    "\n",
    "def animate(i):\n",
    "    targetFrame = stepsPerFrame*i\n",
    "    ax.set_title(f\"{targetFrame:03} / {len(psi)}\")\n",
    "    l.set_data(*discreteSpatialMeshgrid, np.absolute(psi[targetFrame])**2)\n",
    "    framesProgressBar.update(1)\n",
    "\n",
    "\n",
    "# plt.tight_layout()\n",
    "ani = animation.FuncAnimation(fig, animate, frames=numFrames, interval=50)\n",
    "writer = animation.PillowWriter(fps=30,)\n",
    "ani.save(\"images/psi.gif\", writer=writer)\n",
    "framesProgressBar.close()"
   ]
  }
 ],
 "metadata": {
  "kernelspec": {
   "display_name": "pytorch",
   "language": "python",
   "name": "python3"
  },
  "language_info": {
   "codemirror_mode": {
    "name": "ipython",
    "version": 3
   },
   "file_extension": ".py",
   "mimetype": "text/x-python",
   "name": "python",
   "nbconvert_exporter": "python",
   "pygments_lexer": "ipython3",
   "version": "3.10.13"
  }
 },
 "nbformat": 4,
 "nbformat_minor": 2
}
