{
 "cells": [
  {
   "cell_type": "code",
   "execution_count": null,
   "metadata": {},
   "outputs": [],
   "source": [
    "import numpy as np\n",
    "import matplotlib.pyplot as plt\n",
    "\n",
    "from scipy import sparse\n",
    "import torch\n",
    "\n",
    "import schrodingerUtils\n",
    "\n",
    "device = torch.device(\"cuda\" if torch.cuda.is_available() else \"cpu\")\n",
    "print(f\"Device: {device}\")"
   ]
  },
  {
   "cell_type": "code",
   "execution_count": null,
   "metadata": {},
   "outputs": [],
   "source": [
    "# Discretize the dimensions to simplify the following simulations\n",
    "# More points gives a better simulation but will require more computation\n",
    "\n",
    "NUM_DIMENSIONS = 1\n",
    "POINTS_PER_DIMENSION = 200\n",
    "\n",
    "discreteSpatialMeshgrid = schrodingerUtils.physics.createNDimensionalMeshGrid(NUM_DIMENSIONS, POINTS_PER_DIMENSION, [-3,3])"
   ]
  },
  {
   "cell_type": "code",
   "execution_count": null,
   "metadata": {},
   "outputs": [],
   "source": [
    "# Potential is a function over the entire space that determines the potential energy of a particle at that position\n",
    "# Negative potentials will act as attractors, and positive potentials will act as repellors\n",
    "\n",
    "def gaussian(xPos, xWidth, yPos, yWidth):\n",
    "    return lambda x,y: np.exp(-(x-xPos)**2 / (2*xWidth**2)) * np.exp(-(y-yPos)**2 / (2*yWidth**2))\n",
    "\n",
    "def potential(x,y):\n",
    "    STD = 0.5\n",
    "    leftGaussian = gaussian(-1,STD,0,STD)\n",
    "    rightGaussian = gaussian(1,STD,0,STD)\n",
    "    return - (leftGaussian(x,y) + rightGaussian(x,y))\n",
    "\n",
    "# def potential(x,y):\n",
    "#     g = gaussian(0,1.5,0,1.5)\n",
    "#     return - g(x,y)\n",
    "\n",
    "V = potential(*discreteSpatialMeshgrid)\n",
    "\n",
    "fig = plt.figure(figsize=(10,10))\n",
    "ax = fig.add_subplot(111, projection='3d')\n",
    "# ax.set_zlim((0,1.1))\n",
    "schrodingerUtils.display.plotSurface(*discreteSpatialMeshgrid,V, ax=ax)"
   ]
  },
  {
   "cell_type": "code",
   "execution_count": null,
   "metadata": {},
   "outputs": [],
   "source": [
    "T = schrodingerUtils.physics.getKineticSchrodingerTerm(NUM_DIMENSIONS, POINTS_PER_DIMENSION)\n",
    "U = sparse.diags(V.reshape(POINTS_PER_DIMENSION**NUM_DIMENSIONS), (0))\n",
    "\n",
    "H = T+U\n",
    "\n",
    "schrodingerSolver = schrodingerUtils.physics.TorchSchrodingerSolver(H, NUM_DIMENSIONS, POINTS_PER_DIMENSION)"
   ]
  },
  {
   "cell_type": "code",
   "execution_count": null,
   "metadata": {},
   "outputs": [],
   "source": [
    "numEigenstates = 30\n",
    "schrodingerSolver.solveEigenstates(numEigenstates=numEigenstates)"
   ]
  },
  {
   "cell_type": "code",
   "execution_count": null,
   "metadata": {},
   "outputs": [],
   "source": [
    "targetIndex = 0\n",
    "eigenvalue, eigenvector = schrodingerSolver.getEigenstate(targetIndex)\n",
    "schrodingerUtils.display.plotColormesh(*discreteSpatialMeshgrid, eigenvector**2)"
   ]
  },
  {
   "cell_type": "code",
   "execution_count": null,
   "metadata": {},
   "outputs": [],
   "source": [
    "axisDim = 3\n",
    "\n",
    "# numRows = 4\n",
    "# numCols = numEigenstates//numRows\n",
    "# numCols = 4\n",
    "# numRows = numEigenstates//numCols\n",
    "numCols = 4\n",
    "numRows = 4\n",
    "\n",
    "\n",
    "fig, axes = plt.subplots(ncols=numCols, nrows=numRows, sharex=True, sharey=True, figsize=(numCols*axisDim,numRows*axisDim))\n",
    "\n",
    "axes = np.ravel(axes)\n",
    "for i in range(len(axes)):\n",
    "    targetAxis = axes[i]\n",
    "    if i > numEigenstates:\n",
    "        targetAxis.axis(\"off\")\n",
    "        continue\n",
    "\n",
    "    targetAxis.set_title(f\"Eigenstate Index: {i}\")\n",
    "    targetAxis.set_aspect(\"equal\")\n",
    "    eigenvalue, eigenvector = schrodingerSolver.getEigenstate(i)\n",
    "    schrodingerUtils.display.plotColormesh(*discreteSpatialMeshgrid, eigenvector**2, ax=targetAxis, showPlot=False)\n",
    "plt.tight_layout()\n",
    "plt.show()"
   ]
  }
 ],
 "metadata": {
  "kernelspec": {
   "display_name": "pytorch",
   "language": "python",
   "name": "python3"
  },
  "language_info": {
   "codemirror_mode": {
    "name": "ipython",
    "version": 3
   },
   "file_extension": ".py",
   "mimetype": "text/x-python",
   "name": "python",
   "nbconvert_exporter": "python",
   "pygments_lexer": "ipython3",
   "version": "3.10.13"
  }
 },
 "nbformat": 4,
 "nbformat_minor": 2
}
